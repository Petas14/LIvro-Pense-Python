{
  "nbformat": 4,
  "nbformat_minor": 0,
  "metadata": {
    "colab": {
      "provenance": [],
      "authorship_tag": "ABX9TyPjU6PB9AGDFbbEyOCtIVNG",
      "include_colab_link": true
    },
    "kernelspec": {
      "name": "python3",
      "display_name": "Python 3"
    },
    "language_info": {
      "name": "python"
    }
  },
  "cells": [
    {
      "cell_type": "markdown",
      "metadata": {
        "id": "view-in-github",
        "colab_type": "text"
      },
      "source": [
        "<a href=\"https://colab.research.google.com/github/Petas14/LIvro-Pense-Python/blob/main/Cap_2.ipynb\" target=\"_parent\"><img src=\"https://colab.research.google.com/assets/colab-badge.svg\" alt=\"Open In Colab\"/></a>"
      ]
    },
    {
      "cell_type": "markdown",
      "source": [
        "#Exercícios 2.1\n",
        "\n",
        "* ## Vimos que n = 42 é legal. E 42 = n? R.: variáveis não podem começar com números;\n",
        "\n",
        "* ## Ou x = y = 1? R.: Isso é permitido x recebe o valor de y, e y recebe 1;\n",
        "\n",
        "* ## Em algumas linguagens, cada instrução termina em um ponto e vírgula ;. O que acontece se você puser um ponto e vírgula no fim de uma instrução no Python? R.: Ponto e vírgula é permitido, e ainda, você pode declarar mais coisas na mesma linha após inserir o mesmo;\n",
        "\n",
        "\n",
        "* ## E se puser um ponto no fim de uma instrução? No final de um número torna um float number, no fim de uma variável gera um Erro de Sintax!\n",
        "\n",
        "* ## Em notação matemática é possível multiplicar x e y desta forma: xy. O que acontece se você tentar fazer o mesmo no Python? R.: Erro de Sintax!"
      ],
      "metadata": {
        "id": "sg9qmqzNwVkN"
      }
    },
    {
      "cell_type": "markdown",
      "source": [
        "# Exercícios 2.2\n",
        "\n",
        "##1. O volume de uma esfera com raio r é . Qual é o volume de uma esfera com raio 5?"
      ],
      "metadata": {
        "id": "VYnd5nC6x7ic"
      }
    },
    {
      "cell_type": "code",
      "source": [
        "import math\n",
        "R = 5\n",
        "print(\"Usando a formula de volume, e a biblioteca math para gerar o valor de pi, temos: \", (4*math.pi*R**3)/3)"
      ],
      "metadata": {
        "colab": {
          "base_uri": "https://localhost:8080/"
        },
        "id": "Krgow7ubwhDJ",
        "outputId": "4e7e093c-cd22-4304-bce9-24f6ffa52792"
      },
      "execution_count": 7,
      "outputs": [
        {
          "output_type": "stream",
          "name": "stdout",
          "text": [
            "usando a formula de volume, e a biblioteca math para gerar o valor de pi, temos:  523.5987755982989\n"
          ]
        }
      ]
    },
    {
      "cell_type": "markdown",
      "source": [
        "## 2. Suponha que o preço de capa de um livro seja R\\$ 24,95, mas as livrarias recebem um desconto de 40\\%. O transporte custa R$ 3,00 para o primeiro exemplar e 75 centavos para cada exemplar adicional. Qual é o custo total de atacado para 60 cópias?"
      ],
      "metadata": {
        "id": "i6yikvgKyXYs"
      }
    },
    {
      "cell_type": "code",
      "source": [
        "custo_unidade = 24.95*0.6\n",
        "custo_todos = custo_unidade*60\n",
        "custo_viagem = 3 + 0.75*59\n",
        "print(\"O custo total será a soma do frete mais a soma das unidades com desconto, logo: \", custo_todos + custo_viagem,\"R$\" )"
      ],
      "metadata": {
        "colab": {
          "base_uri": "https://localhost:8080/"
        },
        "id": "VKvDRAMUyUMX",
        "outputId": "beb80f0b-42b6-4d94-9c82-7df2234f5db2"
      },
      "execution_count": 8,
      "outputs": [
        {
          "output_type": "stream",
          "name": "stdout",
          "text": [
            "O custo total será a soma do frete mais a soma das unidades com desconto, logo:  945.4499999999999 R$\n"
          ]
        }
      ]
    },
    {
      "cell_type": "markdown",
      "source": [
        "##3. Se eu sair da minha casa às 6:52 e correr 1 quilômetro a um certo passo (8min15s por quilômetro), então 3 quilômetros a um passo mais rápido (7min12s por quilômetro) e 1 quilômetro no mesmo passo usado em primeiro lugar, que horas chego em casa para o café da manhã? R.: Nesta questão o ideal é passar tudo para a mesma unidade, segundos, realizar os cálculos, e somar tudo de novo."
      ],
      "metadata": {
        "id": "kTmxbbjxzO4n"
      }
    },
    {
      "cell_type": "code",
      "source": [
        "t_0 = 6 + 52/60\n",
        "t_1 = (8/60 + 15/3600)*1\n",
        "t_2 = (7/60 + 12/3600)*3\n",
        "t_3 = (8/60 + 15/3600)*1\n",
        "\n",
        "t_f = t_0 + t_1 +t_2 + t_3\n",
        "print(\"O tempo em horas é igual a:\",t_f)\n",
        "print(\"que gera algo aproximado de 7 horas e 30 minutos e alguns segundos!\")"
      ],
      "metadata": {
        "colab": {
          "base_uri": "https://localhost:8080/"
        },
        "id": "5AHSMM0mzHrD",
        "outputId": "5b28b79e-9626-4dd0-b590-1f3a15456ec5"
      },
      "execution_count": 12,
      "outputs": [
        {
          "output_type": "stream",
          "name": "stdout",
          "text": [
            "O tempo em horas é igual a: 7.501666666666668\n",
            "que gera algo aproximado de 7 horas e 30 minutos e alguns segundos!\n"
          ]
        }
      ]
    },
    {
      "cell_type": "code",
      "source": [],
      "metadata": {
        "id": "7-csiioW0bpe"
      },
      "execution_count": null,
      "outputs": []
    }
  ]
}