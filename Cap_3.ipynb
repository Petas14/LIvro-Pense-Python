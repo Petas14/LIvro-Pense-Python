{
  "nbformat": 4,
  "nbformat_minor": 0,
  "metadata": {
    "colab": {
      "provenance": [],
      "authorship_tag": "ABX9TyNEFe+n4N8jnGZotqJ87aMO",
      "include_colab_link": true
    },
    "kernelspec": {
      "name": "python3",
      "display_name": "Python 3"
    },
    "language_info": {
      "name": "python"
    }
  },
  "cells": [
    {
      "cell_type": "markdown",
      "metadata": {
        "id": "view-in-github",
        "colab_type": "text"
      },
      "source": [
        "<a href=\"https://colab.research.google.com/github/Petas14/LIvro-Pense-Python/blob/main/Cap_3.ipynb\" target=\"_parent\"><img src=\"https://colab.research.google.com/assets/colab-badge.svg\" alt=\"Open In Colab\"/></a>"
      ]
    },
    {
      "cell_type": "markdown",
      "source": [
        "#Exercício 3.1\n",
        "\n",
        "## Escreva uma função chamada right_justify, que receba uma string chamada s como parâmetro e exiba a string com espaços suficientes à frente para que a última letra da string esteja na coluna 70 da tela."
      ],
      "metadata": {
        "id": "D_y7sByr28Cl"
      }
    },
    {
      "cell_type": "code",
      "execution_count": null,
      "metadata": {
        "colab": {
          "base_uri": "https://localhost:8080/"
        },
        "id": "-Qpr97GE1cQy",
        "outputId": "2f5a67b3-daf7-4ad7-c077-ce7cc9989f84"
      },
      "outputs": [
        {
          "output_type": "stream",
          "name": "stdout",
          "text": [
            "                                                                 morty\n",
            "                                                                  rick\n"
          ]
        }
      ],
      "source": [
        "def right_justify(s):\n",
        "  n = len(s)\n",
        "  space = \" \"*(70 - n)\n",
        "  print(space + s)\n",
        "\n",
        "right_justify('morty')\n",
        "right_justify('rick')"
      ]
    },
    {
      "cell_type": "markdown",
      "source": [
        "# Exercício 3.3\n",
        "\n"
      ],
      "metadata": {
        "id": "qbSUiv6d3cAd"
      }
    },
    {
      "cell_type": "code",
      "source": [
        "def grid(linhas,col):\n",
        "  n = \" - - - - +\"\n",
        "  m = \"         |\"\n",
        "  text = ''\n",
        "  for i in range(linhas):\n",
        "    text += '+'\n",
        "    text += n*col\n",
        "    text += '\\n'\n",
        "    for i in range(4):\n",
        "      text += '|'\n",
        "      text += m*col\n",
        "      text += '\\n'\n",
        "  text += '+'\n",
        "  text += n*col\n",
        "  text += '\\n'\n",
        "  print(text)"
      ],
      "metadata": {
        "id": "3WefhJEr2Vr8"
      },
      "execution_count": 11,
      "outputs": []
    },
    {
      "cell_type": "code",
      "source": [
        "grid(4,10)"
      ],
      "metadata": {
        "colab": {
          "base_uri": "https://localhost:8080/"
        },
        "id": "I28pZlzG-4rb",
        "outputId": "6362b2ac-0f34-4be5-ef02-469e4065f452"
      },
      "execution_count": 16,
      "outputs": [
        {
          "output_type": "stream",
          "name": "stdout",
          "text": [
            "+ - - - - + - - - - + - - - - + - - - - + - - - - + - - - - + - - - - + - - - - + - - - - + - - - - +\n",
            "|         |         |         |         |         |         |         |         |         |         |\n",
            "|         |         |         |         |         |         |         |         |         |         |\n",
            "|         |         |         |         |         |         |         |         |         |         |\n",
            "|         |         |         |         |         |         |         |         |         |         |\n",
            "+ - - - - + - - - - + - - - - + - - - - + - - - - + - - - - + - - - - + - - - - + - - - - + - - - - +\n",
            "|         |         |         |         |         |         |         |         |         |         |\n",
            "|         |         |         |         |         |         |         |         |         |         |\n",
            "|         |         |         |         |         |         |         |         |         |         |\n",
            "|         |         |         |         |         |         |         |         |         |         |\n",
            "+ - - - - + - - - - + - - - - + - - - - + - - - - + - - - - + - - - - + - - - - + - - - - + - - - - +\n",
            "|         |         |         |         |         |         |         |         |         |         |\n",
            "|         |         |         |         |         |         |         |         |         |         |\n",
            "|         |         |         |         |         |         |         |         |         |         |\n",
            "|         |         |         |         |         |         |         |         |         |         |\n",
            "+ - - - - + - - - - + - - - - + - - - - + - - - - + - - - - + - - - - + - - - - + - - - - + - - - - +\n",
            "|         |         |         |         |         |         |         |         |         |         |\n",
            "|         |         |         |         |         |         |         |         |         |         |\n",
            "|         |         |         |         |         |         |         |         |         |         |\n",
            "|         |         |         |         |         |         |         |         |         |         |\n",
            "+ - - - - + - - - - + - - - - + - - - - + - - - - + - - - - + - - - - + - - - - + - - - - + - - - - +\n",
            "\n"
          ]
        }
      ]
    },
    {
      "cell_type": "code",
      "source": [],
      "metadata": {
        "id": "ccidzHhIA-s_"
      },
      "execution_count": null,
      "outputs": []
    }
  ]
}