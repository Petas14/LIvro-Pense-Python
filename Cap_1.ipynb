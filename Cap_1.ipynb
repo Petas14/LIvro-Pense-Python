{
  "nbformat": 4,
  "nbformat_minor": 0,
  "metadata": {
    "colab": {
      "provenance": []
    },
    "kernelspec": {
      "name": "python3",
      "display_name": "Python 3"
    },
    "language_info": {
      "name": "python"
    }
  },
  "cells": [
    {
      "cell_type": "markdown",
      "source": [
        "# Exercício 1.1\n",
        "\n",
        "\n",
        "##1. Em uma instrução print, o que aocontece se você omitir uma das as aspas ou ambas?  R.: Erro de sintax em ambos os casos!\n",
        "\n",
        "##2. Se estiver tentando imprimir uma string, o que acontece se omitir uma das aspas ou ambas? R.: Erro de sintax em ambos os casos!\n",
        "\n",
        "##3. Você pode usar um sinal de menos para fazer um número negativo como -2. O que acontece se puser um sinal de mais antes de um número? E se escrever assim: 2++2? Ele vai assumir que o segundo é o sinal do segundo número!\n",
        "\n",
        "##4. Na notação matemática, zeros à esquerda são aceitáveis, como em 02. O que acontece se você tentar usar isso no Python? R.: Erro de sintax!\n",
        "\n",
        "##5. O que acontece se você tiver dois valores sem nenhum operador entre eles? R.: Erro de sintax!\n"
      ],
      "metadata": {
        "id": "b3r0KuZ7oJzv"
      }
    },
    {
      "cell_type": "markdown",
      "source": [
        "# Exercício 1.2\n",
        "\n",
        "##1. Quantos segundos há em 42 minutos e 42 segundos?\n",
        "\n"
      ],
      "metadata": {
        "id": "giG8H8diq2LN"
      }
    },
    {
      "cell_type": "code",
      "execution_count": null,
      "metadata": {
        "colab": {
          "base_uri": "https://localhost:8080/"
        },
        "id": "sIC-JDvYoEDo",
        "outputId": "2a3eeb21-4e28-4774-ff08-4e388898bb50"
      },
      "outputs": [
        {
          "output_type": "stream",
          "name": "stdout",
          "text": [
            "A quantidade de segundos em 42 minutos e 42 segundos é:  2562  segundos\n"
          ]
        }
      ],
      "source": [
        "print(\"A quantidade de segundos em 42 minutos e 42 segundos é: \",42*60 + 42, \" segundos\")"
      ]
    },
    {
      "cell_type": "markdown",
      "source": [
        "##2. Quantas milhas há em 10 quilômetros? Dica: uma milha equivale a 1,61 quilômetro.\n"
      ],
      "metadata": {
        "id": "46nWU-Q0rPnN"
      }
    },
    {
      "cell_type": "code",
      "source": [
        "print(\"usando regra de três, em 10 quilometros há: \", round(10/1.61,2), \" milhas\")"
      ],
      "metadata": {
        "colab": {
          "base_uri": "https://localhost:8080/"
        },
        "id": "AKqr5QnrolL7",
        "outputId": "56edd0d3-d3aa-432c-f22c-d7c6135019c9"
      },
      "execution_count": null,
      "outputs": [
        {
          "output_type": "stream",
          "name": "stdout",
          "text": [
            "usando regra de três, em 10 quilometros há:  6.21  milhas\n"
          ]
        }
      ]
    },
    {
      "cell_type": "markdown",
      "source": [
        "##3. Se você correr 10 quilômetros em 42 minutos e 42 segundos, qual é o seu passo médio (tempo por milha em minutos e segundos)? Qual é a sua velocidade média em milhas por hora?"
      ],
      "metadata": {
        "id": "z5F5xUjorqml"
      }
    },
    {
      "cell_type": "code",
      "source": [
        "t_minuto = 42 + 42/60\n",
        "t_segundos = 42*60 + 42\n",
        "t_hora = t_minuto/60\n",
        "milhas = round(10/1.61,2)\n",
        "v_hora = milhas/t_hora\n",
        "v_minuto = milhas/t_minuto\n",
        "v_segundos = milhas/t_segundos\n",
        "print(\"A velocidade em milhas por hora é de\", v_hora)\n",
        "print(\"A velocidade em milhas por minuto é de\", v_minuto)\n",
        "print(\"A velocidade em milhas por segundos é de\", v_segundos)"
      ],
      "metadata": {
        "colab": {
          "base_uri": "https://localhost:8080/"
        },
        "id": "a81MTfe3r5MB",
        "outputId": "90275f32-1880-42c6-916d-dad685fb5ee1"
      },
      "execution_count": null,
      "outputs": [
        {
          "output_type": "stream",
          "name": "stdout",
          "text": [
            "A velocidade em milhas por hora é de 8.725995316159251\n",
            "A velocidade em milhas por minuto é de 0.14543325526932083\n",
            "A velocidade em milhas por segundos é de 0.002423887587822014\n"
          ]
        }
      ]
    },
    {
      "cell_type": "code",
      "source": [],
      "metadata": {
        "id": "blMdD62MsjdK"
      },
      "execution_count": null,
      "outputs": []
    }
  ]
}